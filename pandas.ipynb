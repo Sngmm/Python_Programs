{
 "cells": [
  {
   "cell_type": "code",
   "execution_count": null,
   "id": "86ce31f0",
   "metadata": {},
   "outputs": [],
   "source": [
    "# string Formatting\n",
    "s = \"\"\n",
    "n = int(input(\"Enter n = \"))\n",
    "file = open('data.csv','a')\n",
    "for i in range(n):\n",
    "    name = input(\"Enter name = \")\n",
    "    phone = int(input(\"Enter phone = \"))\n",
    "    info = f\"{name} , {phone}\\n\"\n",
    "    s = s+info\n",
    "print(s)\n",
    "file.write(s)\n",
    "file.close()"
   ]
  },
  {
   "cell_type": "code",
   "execution_count": null,
   "id": "6194b3ca",
   "metadata": {},
   "outputs": [],
   "source": [
    "import pandas as pd\n",
    "df = pd.read_csv('data.csv',nrows = 4)\n",
    "df"
   ]
  },
  {
   "cell_type": "code",
   "execution_count": null,
   "id": "c07a5e78",
   "metadata": {},
   "outputs": [],
   "source": [
    "import pandas as pd\n",
    "df = pd.read_csv('data.csv',index_col = 'Sn')\n",
    "df"
   ]
  },
  {
   "cell_type": "code",
   "execution_count": null,
   "id": "604e00fc",
   "metadata": {},
   "outputs": [],
   "source": []
  },
  {
   "cell_type": "code",
   "execution_count": null,
   "id": "dcd380f5",
   "metadata": {},
   "outputs": [],
   "source": [
    "import pandas as pd\n",
    "df = pd.read_csv('document.csv',index_Col = 'Sn')\n",
    "df.head(3)\n",
    "# df.tail(2)"
   ]
  },
  {
   "cell_type": "code",
   "execution_count": null,
   "id": "967e0a14",
   "metadata": {},
   "outputs": [],
   "source": [
    "import pandas as pd\n",
    "df = pd.read_csv('data.csv',index_col = 'Sn')\n",
    "df.head(3)"
   ]
  },
  {
   "cell_type": "code",
   "execution_count": null,
   "id": "ffff2742",
   "metadata": {},
   "outputs": [],
   "source": [
    "import pandas as pd\n",
    "df = pd.read_csv('data.csv',index_col = 'Sn',usecols = ['Sn','name','Age'])\n",
    "# df.head(3)\n",
    "df"
   ]
  },
  {
   "cell_type": "code",
   "execution_count": null,
   "id": "5d53359f",
   "metadata": {},
   "outputs": [],
   "source": [
    "import pandas as pd\n",
    "df = pd.read_csv('data.csv',index_col = 'Sn')\n",
    "df.iloc[1:4]"
   ]
  },
  {
   "cell_type": "code",
   "execution_count": null,
   "id": "fd601580",
   "metadata": {},
   "outputs": [],
   "source": [
    "import pandas as pd\n",
    "df = pd.read_csv('data.csv',index_col = 'Sn')\n",
    "df.iloc[1:4,0:2]"
   ]
  },
  {
   "cell_type": "code",
   "execution_count": null,
   "id": "04db800b",
   "metadata": {},
   "outputs": [],
   "source": [
    "import pandas as pd\n",
    "df = pd.read_csv('data.csv',index_col = 'name')\n",
    "df.loc['sagnam':'sagar']"
   ]
  },
  {
   "cell_type": "code",
   "execution_count": null,
   "id": "26d57785",
   "metadata": {},
   "outputs": [],
   "source": [
    "import pandas as pd\n",
    "df = pd.read_csv('data.csv',index_col = 'Sn')\n",
    "df[df['Age'] > 40]"
   ]
  },
  {
   "cell_type": "code",
   "execution_count": null,
   "id": "55e66de4",
   "metadata": {},
   "outputs": [],
   "source": [
    "import pandas as pd\n",
    "df = pd.read_csv('data.csv',index_col = 'Sn')\n",
    "data = df[df['Address'] == 'Bkt']\n",
    "data.to_csv('new_file.csv')"
   ]
  },
  {
   "cell_type": "code",
   "execution_count": null,
   "id": "7fb434d1",
   "metadata": {},
   "outputs": [],
   "source": [
    "import pandas as pd\n",
    "d = {'Name':['Akash','Sabin','Sita'],'Age':[34,56,43]}\n",
    "df = pd.DataFrame(d)\n",
    "df.to_csv('info.csv')\n",
    "df"
   ]
  },
  {
   "cell_type": "code",
   "execution_count": null,
   "id": "22702bb9",
   "metadata": {},
   "outputs": [],
   "source": [
    "import pandas as pd\n",
    "d = {'Name':['Akash','Sabin','Sita'],'Age':[34,56,43]}\n",
    "df = pd.DataFrame(d)\n",
    "df.to_json('info.json')\n",
    "df"
   ]
  },
  {
   "cell_type": "code",
   "execution_count": null,
   "id": "93a0860c",
   "metadata": {},
   "outputs": [],
   "source": [
    "import csv\n",
    "fields=['Kamal','28']\n",
    "with open('info.csv', 'a') as f:\n",
    "    x = csv.writer(f)\n",
    "    x.writerow(fields)"
   ]
  },
  {
   "cell_type": "code",
   "execution_count": null,
   "id": "8e01123f",
   "metadata": {},
   "outputs": [],
   "source": [
    "import csv\n",
    "fields=['Kamal','28']\n",
    "f = open('info.csv', 'a')\n",
    "x = csv.writer(f)\n",
    "x.writerow(fields)\n",
    "f.close()"
   ]
  },
  {
   "cell_type": "code",
   "execution_count": null,
   "id": "fb53e93f",
   "metadata": {},
   "outputs": [],
   "source": [
    "import csv\n",
    "data = [['Ram',67,'Kathmandu'],\n",
    "        ['Shyam',34,'Patan'],\n",
    "        ['Sita',23,'Bhaktapur']]\n",
    "\n",
    "f = open('info.csv', 'w')\n",
    "x = csv.writer(f)\n",
    "for i in data:\n",
    "    x.writerow(i)\n",
    "f.close()"
   ]
  },
  {
   "cell_type": "code",
   "execution_count": null,
   "id": "39db0a48",
   "metadata": {},
   "outputs": [],
   "source": [
    "import csv\n",
    "data = []\n",
    "with open('info.csv') as csvfile:\n",
    "    reader = csv.DictReader(csvfile)\n",
    "    for row in reader:\n",
    "        data.append(dict(row))\n",
    "\n",
    "print(data)"
   ]
  },
  {
   "cell_type": "code",
   "execution_count": null,
   "id": "66521d5d",
   "metadata": {},
   "outputs": [],
   "source": [
    "csv_columns = ['Name', 'Age', 'Address']\n",
    "dict = [\n",
    "    {'Name':'Aayush','Age':23,'Address':'Katmandu'},\n",
    "    {'Name':'Shyam','Age':33,'Address':'Patan'}\n",
    "]\n",
    "\n",
    "csvfile = open(\"data.csv\", 'w')\n",
    "\n",
    "writer = csv.DictWriter(csvfile, fieldnames = csv_columns)\n",
    "\n",
    "writer.writeheader()\n",
    "\n",
    "for data in dict:\n",
    "    writer.writerow(data)\n",
    "    \n",
    "    \n",
    "csvfile.close()"
   ]
  }
 ],
 "metadata": {
  "kernelspec": {
   "display_name": "Python 3 (ipykernel)",
   "language": "python",
   "name": "python3"
  },
  "language_info": {
   "codemirror_mode": {
    "name": "ipython",
    "version": 3
   },
   "file_extension": ".py",
   "mimetype": "text/x-python",
   "name": "python",
   "nbconvert_exporter": "python",
   "pygments_lexer": "ipython3",
   "version": "3.9.7"
  }
 },
 "nbformat": 4,
 "nbformat_minor": 5
}
