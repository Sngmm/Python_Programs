{
 "cells": [
  {
   "cell_type": "code",
   "execution_count": null,
   "id": "32c0c6f8",
   "metadata": {},
   "outputs": [],
   "source": [
    "#file = open(<file_name>,<mode>)\n",
    "#file.close"
   ]
  },
  {
   "cell_type": "code",
   "execution_count": null,
   "id": "717a32c9",
   "metadata": {},
   "outputs": [],
   "source": [
    "# modes\n",
    "#     r - read\n",
    "#     w - write\n",
    "#     a - append\n",
    "#     x - create"
   ]
  },
  {
   "cell_type": "code",
   "execution_count": null,
   "id": "5543ad4e",
   "metadata": {},
   "outputs": [],
   "source": [
    "try:\n",
    "    file = open('document.txt','x')\n",
    "    file.close()\n",
    "except:\n",
    "    print(\"The file is already there\")"
   ]
  },
  {
   "cell_type": "code",
   "execution_count": null,
   "id": "f65da941",
   "metadata": {},
   "outputs": [],
   "source": [
    "file = open('document.txt','r')\n",
    "data = file.read()\n",
    "print(data)\n",
    "print(type(data))\n",
    "file.close()"
   ]
  },
  {
   "cell_type": "code",
   "execution_count": null,
   "id": "9502d3c0",
   "metadata": {},
   "outputs": [],
   "source": [
    "data"
   ]
  },
  {
   "cell_type": "code",
   "execution_count": null,
   "id": "13a272a4",
   "metadata": {},
   "outputs": [],
   "source": [
    "main_data = data.split('\\n')"
   ]
  },
  {
   "cell_type": "code",
   "execution_count": null,
   "id": "b2c70863",
   "metadata": {},
   "outputs": [],
   "source": [
    "main_data[2]"
   ]
  },
  {
   "cell_type": "code",
   "execution_count": null,
   "id": "1eb855b0",
   "metadata": {},
   "outputs": [],
   "source": [
    "file = open('document.txt','r')\n",
    "print(file.readline())\n",
    "print(file.readline())\n",
    "file.close()"
   ]
  },
  {
   "cell_type": "code",
   "execution_count": null,
   "id": "6bea8571",
   "metadata": {},
   "outputs": [],
   "source": [
    "# string Formatting\n",
    "s = \"\"\n",
    "n = int(input(\"Enter n = \"))\n",
    "file = open('data1.txt','a')\n",
    "for i in range(n):\n",
    "    name = input(\"Enter name = \")\n",
    "    phone = int(input(\"Enter phone = \"))\n",
    "    info = f\"{name} {phone}\\n\"\n",
    "    s = s+info\n",
    "print(s)\n",
    "file.write(s)\n",
    "file.close()"
   ]
  },
  {
   "cell_type": "code",
   "execution_count": 3,
   "id": "853b36eb",
   "metadata": {},
   "outputs": [
    {
     "name": "stdout",
     "output_type": "stream",
     "text": [
      "Enter n = 2\n",
      "Enter name = sdfsa\n",
      "Enter phone = 43434\n",
      "Enter name = sdfdas\n",
      "Enter phone = 343434\n",
      "sdfsa , 43434\n",
      "sdfdas , 343434\n",
      "\n"
     ]
    }
   ],
   "source": [
    "# string Formatting\n",
    "s = \"\"\n",
    "n = int(input(\"Enter n = \"))\n",
    "file = open('data.csv','a')\n",
    "for i in range(n):\n",
    "    name = input(\"Enter name = \")\n",
    "    phone = int(input(\"Enter phone = \"))\n",
    "    info = f\"{name} , {phone}\\n\"\n",
    "    s = s+info\n",
    "print(s)\n",
    "file.write(s)\n",
    "file.close()"
   ]
  },
  {
   "cell_type": "code",
   "execution_count": 2,
   "id": "46b209fd",
   "metadata": {},
   "outputs": [
    {
     "name": "stdout",
     "output_type": "stream",
     "text": [
      "Name,Phone\n",
      "Ram,9838383\n",
      "shyam,33434\n"
     ]
    }
   ],
   "source": [
    "new_file = open('data.csv','r')\n",
    "new_data = new_file.read()\n",
    "print(new_data)\n",
    "new_file.close()\n",
    "                "
   ]
  },
  {
   "cell_type": "code",
   "execution_count": 5,
   "id": "8d679490",
   "metadata": {},
   "outputs": [],
   "source": [
    "\n",
    "new_file = open('data.csv','w')\n",
    "data_updated = new_data.replace('Ram,9838383','')\n",
    "b = open('data.csv','w')\n",
    "b.write(data_updated)\n",
    "b.close()\n"
   ]
  },
  {
   "cell_type": "code",
   "execution_count": null,
   "id": "eef8a4cd",
   "metadata": {},
   "outputs": [],
   "source": []
  }
 ],
 "metadata": {
  "kernelspec": {
   "display_name": "Python 3 (ipykernel)",
   "language": "python",
   "name": "python3"
  },
  "language_info": {
   "codemirror_mode": {
    "name": "ipython",
    "version": 3
   },
   "file_extension": ".py",
   "mimetype": "text/x-python",
   "name": "python",
   "nbconvert_exporter": "python",
   "pygments_lexer": "ipython3",
   "version": "3.9.7"
  }
 },
 "nbformat": 4,
 "nbformat_minor": 5
}
