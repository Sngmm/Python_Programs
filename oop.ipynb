{
 "cells": [
  {
   "cell_type": "code",
   "execution_count": 6,
   "id": "9582c593",
   "metadata": {},
   "outputs": [],
   "source": [
    "class Hello:\n",
    "    pass\n",
    "obj = Hello()"
   ]
  },
  {
   "cell_type": "code",
   "execution_count": 7,
   "id": "4d2425d4",
   "metadata": {},
   "outputs": [
    {
     "name": "stdout",
     "output_type": "stream",
     "text": [
      "Hello World\n"
     ]
    }
   ],
   "source": [
    "class Hello:\n",
    "    print(\"Hello World\")\n",
    "obj = Hello()"
   ]
  },
  {
   "cell_type": "code",
   "execution_count": 8,
   "id": "dbf624f6",
   "metadata": {},
   "outputs": [
    {
     "name": "stdout",
     "output_type": "stream",
     "text": [
      "Hello World\n"
     ]
    }
   ],
   "source": [
    "            # Normal method(self)\n",
    "class Hello: #class\n",
    "    def hello(self): #method\n",
    "        print(\"Hello World\")\n",
    "obj = Hello() # object\n",
    "obj.hello()\n",
    "\n"
   ]
  },
  {
   "cell_type": "code",
   "execution_count": 9,
   "id": "a8f84679",
   "metadata": {},
   "outputs": [
    {
     "name": "stdout",
     "output_type": "stream",
     "text": [
      "Hello World\n"
     ]
    }
   ],
   "source": [
    "                    # Static Method\n",
    "class Hello: #class\n",
    "    @staticmethod\n",
    "    def hello(): #method\n",
    "        print(\"Hello World\")\n",
    "obj = Hello() # object\n",
    "obj.hello()\n"
   ]
  },
  {
   "cell_type": "code",
   "execution_count": 10,
   "id": "353e3840",
   "metadata": {},
   "outputs": [
    {
     "name": "stdout",
     "output_type": "stream",
     "text": [
      "Enter l = 2\n",
      "Enter b = 2\n"
     ]
    },
    {
     "data": {
      "text/plain": [
       "4"
      ]
     },
     "execution_count": 10,
     "metadata": {},
     "output_type": "execute_result"
    }
   ],
   "source": [
    "class cal:\n",
    "    def area(self):\n",
    "        l = int(input(\"Enter l = \"))\n",
    "        b = int(input(\"Enter b = \"))\n",
    "        a = l*b\n",
    "        return a\n",
    "obj = cal()\n",
    "obj.area()"
   ]
  },
  {
   "cell_type": "code",
   "execution_count": 11,
   "id": "f4d64e8a",
   "metadata": {},
   "outputs": [
    {
     "name": "stdout",
     "output_type": "stream",
     "text": [
      "Enter l = 5\n",
      "Enter b = 5\n",
      "25\n"
     ]
    }
   ],
   "source": [
    "class cal:\n",
    "    def area(self,x,y):      \n",
    "        a = x*y\n",
    "        return a\n",
    "l = int(input(\"Enter l = \"))\n",
    "b = int(input(\"Enter b = \"))\n",
    "obj = cal()\n",
    "print(obj.area(l,b))"
   ]
  },
  {
   "cell_type": "code",
   "execution_count": 12,
   "id": "e6ebfed8",
   "metadata": {},
   "outputs": [
    {
     "name": "stdout",
     "output_type": "stream",
     "text": [
      "Enter l = 2\n",
      "Enter b = 2\n",
      "Enter h = 2\n",
      "4\n",
      "8\n"
     ]
    }
   ],
   "source": [
    "class cal:\n",
    "    def area(self,x,y):      \n",
    "        a = x*y\n",
    "        return a\n",
    "    def volume(self,x,y,z):\n",
    "        v = x*y*z\n",
    "        return v\n",
    "l = int(input(\"Enter l = \"))\n",
    "b = int(input(\"Enter b = \"))\n",
    "h = int(input(\"Enter h = \"))\n",
    "obj = cal()\n",
    "print(obj.area(l,b))\n",
    "print(obj.volume(l,b,h))"
   ]
  },
  {
   "cell_type": "code",
   "execution_count": 5,
   "id": "840f1fad",
   "metadata": {},
   "outputs": [
    {
     "name": "stdout",
     "output_type": "stream",
     "text": [
      "Enter l = 2\n",
      "Enter b = 2\n",
      "Enter h = 2\n",
      "Area is =  4\n",
      "Volume is =  8\n"
     ]
    }
   ],
   "source": [
    "class Area:\n",
    "    def area(self,x,y):      \n",
    "        a = x*y\n",
    "        return a\n",
    "class Volume:\n",
    "    def volume(self,x,y,z):\n",
    "        v = x*y*z\n",
    "        return v\n",
    "l = int(input(\"Enter l = \"))\n",
    "b = int(input(\"Enter b = \"))\n",
    "h = int(input(\"Enter h = \"))\n",
    "obj1 = Area()\n",
    "obj2 = Volume()\n",
    "print(\"Area is = \" ,obj1.area(l,b))\n",
    "print( \"Volume is = \", obj2.volume(l,b,h))"
   ]
  },
  {
   "cell_type": "code",
   "execution_count": 13,
   "id": "45e7ab52",
   "metadata": {},
   "outputs": [
    {
     "name": "stdout",
     "output_type": "stream",
     "text": [
      "Enter l = 2\n",
      "Enter b = 2\n",
      "4\n"
     ]
    }
   ],
   "source": [
    "class Cal:\n",
    "    def __init__(self,l,b):\n",
    "        self.l = l\n",
    "        self.b = b\n",
    "        \n",
    "    def area(self):\n",
    "        a = self.l*self.b\n",
    "        return a\n",
    "    \n",
    "l = int(input(\"Enter l = \"))\n",
    "b = int(input(\"Enter b = \"))   \n",
    "\n",
    "obj = Cal(l,b)\n",
    "print(obj.area())"
   ]
  },
  {
   "cell_type": "code",
   "execution_count": 3,
   "id": "ab6ed5e2",
   "metadata": {},
   "outputs": [
    {
     "name": "stdout",
     "output_type": "stream",
     "text": [
      "Enter l = 2\n",
      "Enter b = 2\n",
      "Enter h = 2\n",
      "8\n"
     ]
    }
   ],
   "source": [
    "#     init Method\n",
    "class cal:\n",
    "    def __init__(self,l,b):\n",
    "        self.l = l\n",
    "        self.b = b\n",
    "        \n",
    "        \n",
    "    def area(self,h):      \n",
    "        v = self.l*self.b*h\n",
    "        return v\n",
    "    \n",
    "l = int(input(\"Enter l = \"))\n",
    "b = int(input(\"Enter b = \"))\n",
    "h = int(input(\"Enter h = \"))\n",
    "obj = cal(l,b)\n",
    "v = (obj.area(h))\n",
    "print(v)"
   ]
  },
  {
   "cell_type": "code",
   "execution_count": 4,
   "id": "c32f4c38",
   "metadata": {},
   "outputs": [
    {
     "name": "stdout",
     "output_type": "stream",
     "text": [
      "Hello World\n"
     ]
    }
   ],
   "source": [
    "class Hello:#class\n",
    "    @staticmethod\n",
    "    def hello():           #method\n",
    "        print(\"Hello World\")\n",
    "        \n",
    "obj = Hello()              #object\n",
    "obj.hello()"
   ]
  },
  {
   "cell_type": "markdown",
   "id": "ee14835a",
   "metadata": {},
   "source": []
  },
  {
   "cell_type": "code",
   "execution_count": 2,
   "id": "d92bd02e",
   "metadata": {},
   "outputs": [
    {
     "name": "stdout",
     "output_type": "stream",
     "text": [
      "Enter l = 2\n",
      "Enter b = 2\n",
      "Enter h = 2\n",
      "Enter r = 4\n",
      "8\n",
      "50.24\n"
     ]
    }
   ],
   "source": [
    "class Cal:\n",
    "    def __init__(self,l,b,h):\n",
    "        self.l = l\n",
    "        self.b = b\n",
    "        self.h = h\n",
    "        \n",
    "    def volume(self):\n",
    "        v = self.l*self.b*self.h\n",
    "        return v\n",
    "    \n",
    "    @staticmethod\n",
    "    def area():\n",
    "        r = int(input(\"Enter r = \"))\n",
    "        a = 3.14*(r**2)\n",
    "        return a\n",
    "        \n",
    "l = int(input(\"Enter l = \"))\n",
    "b = int(input(\"Enter b = \"))   \n",
    "h = int(input(\"Enter h = \"))\n",
    "\n",
    "obj = Cal(l,b,h)\n",
    "v = obj.volume()\n",
    "a = obj.area()\n",
    "print(v)\n",
    "print(a)"
   ]
  },
  {
   "cell_type": "code",
   "execution_count": null,
   "id": "720d2a4e",
   "metadata": {},
   "outputs": [],
   "source": []
  }
 ],
 "metadata": {
  "kernelspec": {
   "display_name": "Python 3 (ipykernel)",
   "language": "python",
   "name": "python3"
  },
  "language_info": {
   "codemirror_mode": {
    "name": "ipython",
    "version": 3
   },
   "file_extension": ".py",
   "mimetype": "text/x-python",
   "name": "python",
   "nbconvert_exporter": "python",
   "pygments_lexer": "ipython3",
   "version": "3.9.7"
  }
 },
 "nbformat": 4,
 "nbformat_minor": 5
}
