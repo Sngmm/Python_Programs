{
 "cells": [
  {
   "cell_type": "code",
   "execution_count": null,
   "id": "3ef198cf",
   "metadata": {},
   "outputs": [],
   "source": [
    "# Using For Loop\n",
    "num = int(input(\"enter a number: \"))\n",
    " \n",
    "fac = 1\n",
    " \n",
    "for i in range(1, num + 1):\n",
    "    fac = fac * i\n",
    " \n",
    "print(\"factorial of \", num, \" is \", fac)"
   ]
  },
  {
   "cell_type": "code",
   "execution_count": null,
   "id": "76908257",
   "metadata": {},
   "outputs": [],
   "source": [
    "# Using While Loop\n",
    "num = int(input(\"enter a number: \"))\n",
    " \n",
    "fac = 1\n",
    "i = 1\n",
    " \n",
    "while i <= num:\n",
    "    fac = fac * i\n",
    "i = i + 1\n",
    " \n",
    "print(\"factorial of \", num, \" is \", fac)"
   ]
  },
  {
   "cell_type": "code",
   "execution_count": null,
   "id": "3060c834",
   "metadata": {},
   "outputs": [],
   "source": [
    "# input net amount\n",
    "amt = int(input(\"Enter Amount: \"))\n",
    " \n",
    "# calculate amount with discount\n",
    "\n",
    "if(amt>0):\n",
    "    if amt<=5000:\n",
    "       disc = amt*0.10\n",
    "    elif amt<=15000:\n",
    "        disc=amt*0.15\n",
    "    elif amt<=25000:\n",
    "        disc=0.20 * amt\n",
    "    else:\n",
    "         disc=0.5 * amt\n",
    " \n",
    "    print(\"Discount Amount : \",disc)\n",
    "    print(\"Total amount of Bill : \",amt-disc)\n",
    "else:\n",
    "    print(\"Invalid Amount\")"
   ]
  },
  {
   "cell_type": "code",
   "execution_count": null,
   "id": "b055e720",
   "metadata": {},
   "outputs": [],
   "source": [
    "# Total Billng\n",
    "all_total = 0\n",
    "s = \" \"\n",
    "n = int(input(\"Enter n = \"))\n",
    "for i in range(n):\n",
    "    product = input(\"Enter name = \")\n",
    "    price = int(input(\"Enter price = \"))\n",
    "    quantity = int(input(\"Enter quantity = \"))\n",
    "    total = price * quantity\n",
    "    s = s+product+\" \"+ str(price)+ \" \" +str(quantity) +\" \" + str(total) + \"\\n\"\n",
    "    all_total = all_total+total\n",
    "    print(\"The bill is = \\n\",s)   \n",
    "    print(\"All total = \",all_total)"
   ]
  },
  {
   "cell_type": "markdown",
   "id": "3826e591",
   "metadata": {},
   "source": [
    "#### "
   ]
  },
  {
   "cell_type": "code",
   "execution_count": null,
   "id": "a1458e47",
   "metadata": {},
   "outputs": [],
   "source": [
    "s = \"\"\n",
    "i = 0\n",
    "n = int(input(\"Enter n = \"))\n",
    "while i<n:\n",
    "    x = input(\"Enter x = \")\n",
    "    s = s+x+\" \"\n",
    "    i = i+1\n",
    "    print(s)"
   ]
  },
  {
   "cell_type": "code",
   "execution_count": null,
   "id": "62b3dfac",
   "metadata": {},
   "outputs": [],
   "source": [
    "a = \"Python\" #range\n",
    "for i in a:\n",
    "    print(i)"
   ]
  },
  {
   "cell_type": "code",
   "execution_count": null,
   "id": "99d9dd58",
   "metadata": {},
   "outputs": [],
   "source": [
    "a = \"Hello World\"\n",
    "for i in a:\n",
    "    if i != \" \":\n",
    "        print(i)"
   ]
  },
  {
   "cell_type": "code",
   "execution_count": null,
   "id": "4c60e5ce",
   "metadata": {},
   "outputs": [],
   "source": [
    "a = \"Hello World\"\n",
    "for i in a:\n",
    "    if i != \"l\" and i!=\" \":\n",
    "        print(i)"
   ]
  },
  {
   "cell_type": "code",
   "execution_count": null,
   "id": "073a8f93",
   "metadata": {},
   "outputs": [],
   "source": [
    "# Control Statements\n",
    "# break\n",
    "# continue\n",
    "# pass\n",
    "\n"
   ]
  },
  {
   "cell_type": "code",
   "execution_count": null,
   "id": "6e060480",
   "metadata": {},
   "outputs": [],
   "source": [
    "for i in range(5):\n",
    "    if i == 3:\n",
    "        break\n",
    "    print(i)"
   ]
  },
  {
   "cell_type": "code",
   "execution_count": null,
   "id": "0df10d68",
   "metadata": {},
   "outputs": [],
   "source": [
    "for i in range(5):\n",
    "    if i == 3:\n",
    "        continue\n",
    "    print(i)"
   ]
  },
  {
   "cell_type": "code",
   "execution_count": null,
   "id": "948f5f49",
   "metadata": {},
   "outputs": [],
   "source": [
    "for i in range(5):\n",
    "    pass"
   ]
  },
  {
   "cell_type": "code",
   "execution_count": null,
   "id": "87b2caae",
   "metadata": {},
   "outputs": [],
   "source": [
    "a = \"Hello World\"\n",
    "for i in a:\n",
    "    if i == \"\":\n",
    "        continue\n",
    "    print(i,end = \"\")"
   ]
  },
  {
   "cell_type": "code",
   "execution_count": null,
   "id": "43546daf",
   "metadata": {},
   "outputs": [],
   "source": [
    "    # Practice\n",
    "# Wap  to find the given no is prime or composite\n",
    "# WAP to draw patterns\n",
    "# *\n",
    "# **\n",
    "# ***\n",
    "# ****\n",
    "# WAP to remove all digits from a given string(0,1,2,3,4,5,6,7,8,9)\n",
    "# WAP to make result management system\n"
   ]
  },
  {
   "cell_type": "code",
   "execution_count": null,
   "id": "a3626219",
   "metadata": {},
   "outputs": [],
   "source": [
    "a = \"apple\"\n",
    "b = a[0].upper()+a[1:]\n",
    "print(b)"
   ]
  },
  {
   "cell_type": "code",
   "execution_count": null,
   "id": "278390f4",
   "metadata": {},
   "outputs": [],
   "source": [
    "a = \"Ram Shyam Hari SIta Gita Gita\"\n",
    "b = a.replace('Ram','ram')\n",
    "print(b)\n",
    "print(a)"
   ]
  },
  {
   "cell_type": "code",
   "execution_count": null,
   "id": "1c2ad001",
   "metadata": {},
   "outputs": [],
   "source": [
    "def hello():\n",
    "    print(\"Hello WOrld\")\n",
    "hello()\n",
    "\n",
    "        \n"
   ]
  },
  {
   "cell_type": "code",
   "execution_count": null,
   "id": "70c75b91",
   "metadata": {},
   "outputs": [],
   "source": [
    "def cal():\n",
    "    l = int(input(\"Enter l = \")) #Local Variable\n",
    "    b = int(input(\"Enter b = \"))\n",
    "    h = int(input(\"Enter h = \"))\n",
    "    v = l*b*h\n",
    "    print(\"The volume is = \",v)\n",
    "cal()\n",
    "      \n",
    "    "
   ]
  },
  {
   "cell_type": "code",
   "execution_count": null,
   "id": "5dfad345",
   "metadata": {},
   "outputs": [],
   "source": [
    "    l = int(input(\"Enter l = \")) #global Variable\n",
    "    b = int(input(\"Enter b = \"))\n",
    "    h = int(input(\"Enter h = \"))\n",
    "    def cal():\n",
    "        v = l*b*h\n",
    "        print(\"The volume is = \",v)\n",
    "    cal()\n",
    "    "
   ]
  },
  {
   "cell_type": "code",
   "execution_count": null,
   "id": "4c2dd223",
   "metadata": {},
   "outputs": [],
   "source": [
    "    l = int(input(\"Enter l = \")) #global Variable\n",
    "    b = int(input(\"Enter b = \"))\n",
    "    h = int(input(\"Enter h = \"))\n",
    "    def area():\n",
    "        a = l*b\n",
    "        print(\"The area is = \",a)\n",
    "        \n",
    "    def volume():\n",
    "        v = l*b*h\n",
    "        print(\"The volume is = \",v)\n",
    "    volume()\n",
    "    area()"
   ]
  },
  {
   "cell_type": "code",
   "execution_count": null,
   "id": "312b417c",
   "metadata": {},
   "outputs": [],
   "source": [
    "# def<function_Name>(<parameter>):\n",
    "#     operations\n",
    "#     .....\n",
    "#     .....\n",
    "# <function_name>(<argument>)\n"
   ]
  },
  {
   "cell_type": "code",
   "execution_count": null,
   "id": "1ed5002f",
   "metadata": {},
   "outputs": [],
   "source": [
    "def language(lan = \"Python\"):\n",
    "    print(lan)\n",
    "language(\"C\")\n",
    "language(\"C++\")\n",
    "language(\"Java\")\n",
    "language()\n",
    "    "
   ]
  },
  {
   "cell_type": "code",
   "execution_count": null,
   "id": "89170a79",
   "metadata": {},
   "outputs": [],
   "source": [
    "def cal(x ,y = 5,z = 5):\n",
    "    v = x*y*z\n",
    "    print(\"The volume is = \",v)\n",
    "cal(15)"
   ]
  },
  {
   "cell_type": "code",
   "execution_count": null,
   "id": "66c49684",
   "metadata": {},
   "outputs": [],
   "source": [
    "# Return type function\n",
    "def hello(x):\n",
    "    return x\n",
    "y = hello(\"Hello World\")\n",
    "print(y)"
   ]
  },
  {
   "cell_type": "code",
   "execution_count": null,
   "id": "2ceaf31c",
   "metadata": {},
   "outputs": [],
   "source": [
    "def cal(x,y,z):\n",
    "    a = x*y\n",
    "    v = a*z\n",
    "    return a,v\n",
    "ar = cal(10,2,2)\n",
    "print(\"The area is = \",ar)\n"
   ]
  },
  {
   "cell_type": "code",
   "execution_count": null,
   "id": "e96ec059",
   "metadata": {},
   "outputs": [],
   "source": [
    "a,b = 10,20\n",
    "print(a)\n",
    "print(b)"
   ]
  },
  {
   "cell_type": "code",
   "execution_count": null,
   "id": "65866428",
   "metadata": {},
   "outputs": [],
   "source": [
    "# WAP to maek a calculator  by using return type function\n",
    "# Program make a simple calculator\n",
    "\n",
    "# This function adds two numbers\n",
    "def add(x, y):\n",
    "    return x + y\n",
    "\n",
    "# This function subtracts two numbers\n",
    "def subtract(x, y):\n",
    "    return x - y\n",
    "\n",
    "# This function multiplies two numbers\n",
    "def multiply(x, y):\n",
    "    return x * y\n",
    "\n",
    "# This function divides two numbers\n",
    "def divide(x, y):\n",
    "    return x / y\n",
    "\n",
    "\n",
    "print(\"Select operation.\")\n",
    "print(\"1.Add\")\n",
    "print(\"2.Subtract\")\n",
    "print(\"3.Multiply\")\n",
    "print(\"4.Divide\")\n",
    "\n",
    "while True:\n",
    "    # take input from the user\n",
    "    choice = input(\"Enter choice(1/2/3/4): \")\n",
    "\n",
    "    # check if choice is one of the four options\n",
    "    if choice in ('1', '2', '3', '4'):\n",
    "        num1 = float(input(\"Enter first number: \"))\n",
    "        num2 = float(input(\"Enter second number: \"))\n",
    "\n",
    "        if choice == '1':\n",
    "            print(num1, \"+\", num2, \"=\", add(num1, num2))\n",
    "\n",
    "        elif choice == '2':\n",
    "            print(num1, \"-\", num2, \"=\", subtract(num1, num2))\n",
    "\n",
    "        elif choice == '3':\n",
    "            print(num1, \"*\", num2, \"=\", multiply(num1, num2))\n",
    "\n",
    "        elif choice == '4':\n",
    "            print(num1, \"/\", num2, \"=\", divide(num1, num2))\n",
    "        \n",
    "        # check if user wants another calculation\n",
    "        # break the while loop if answer is no\n",
    "        next_calculation = input(\"Let's do next calculation? (yes/no): \")\n",
    "        if next_calculation == \"no\":\n",
    "          break\n",
    "    \n",
    "    else:\n",
    "        print(\"Invalid Input\")"
   ]
  },
  {
   "cell_type": "markdown",
   "id": "4e9e2cfc",
   "metadata": {},
   "source": [
    "#### "
   ]
  },
  {
   "cell_type": "code",
   "execution_count": null,
   "id": "2c9595ad",
   "metadata": {},
   "outputs": [],
   "source": [
    "# Python Collection\n",
    "    # List \n",
    "    # Tuple\n",
    "    # Dictionary\n",
    "    # Set\n"
   ]
  },
  {
   "cell_type": "code",
   "execution_count": null,
   "id": "3cbe81cc",
   "metadata": {},
   "outputs": [],
   "source": [
    "#                                 List"
   ]
  },
  {
   "cell_type": "code",
   "execution_count": null,
   "id": "6aecf719",
   "metadata": {},
   "outputs": [],
   "source": [
    "data = [1,2,3,4,5,6,7,8,9]\n",
    "data[0:8:2]"
   ]
  },
  {
   "cell_type": "code",
   "execution_count": null,
   "id": "ad480c1e",
   "metadata": {},
   "outputs": [],
   "source": [
    "data = []\n",
    "n = int(input(\"Enter n = \"))\n",
    "for i in range(n):\n",
    "    x = input(\"Enter x = \")\n",
    "    data =  data + [x]\n",
    "print(data)\n",
    "    "
   ]
  },
  {
   "cell_type": "markdown",
   "id": "a817eee8",
   "metadata": {},
   "source": [
    "\n"
   ]
  },
  {
   "cell_type": "code",
   "execution_count": null,
   "id": "5caf53eb",
   "metadata": {},
   "outputs": [],
   "source": [
    "for i in range(len(data)):\n",
    "    print(data[i])"
   ]
  },
  {
   "cell_type": "code",
   "execution_count": null,
   "id": "5bf74686",
   "metadata": {},
   "outputs": [],
   "source": [
    "for i in range(len(data)):\n",
    "    if data[i] == \"sangam\":\n",
    "        print(i)"
   ]
  },
  {
   "cell_type": "code",
   "execution_count": null,
   "id": "5e0e9cf4",
   "metadata": {},
   "outputs": [],
   "source": [
    "# CRUD Operations in List\n",
    "    # append()\n",
    "    # extend()\n",
    "    # insert()"
   ]
  },
  {
   "cell_type": "code",
   "execution_count": null,
   "id": "1a4dbfb4",
   "metadata": {},
   "outputs": [],
   "source": [
    "# Task\n",
    "    # WAp to develop a billing application(CRUD)\n",
    "    # wAP to dvevelop result maangement system\n",
    "    # wAP to develop a matrix (CRUD)"
   ]
  },
  {
   "cell_type": "code",
   "execution_count": null,
   "id": "d3117e54",
   "metadata": {},
   "outputs": [],
   "source": [
    "#                         Tuple"
   ]
  },
  {
   "cell_type": "code",
   "execution_count": null,
   "id": "deafdbd8",
   "metadata": {},
   "outputs": [],
   "source": []
  },
  {
   "cell_type": "code",
   "execution_count": null,
   "id": "ec6824b9",
   "metadata": {},
   "outputs": [],
   "source": [
    "a = []\n",
    "c  = int(input(\"Enter c = \"))\n",
    "r = int(input(\"Enter r = \"))\n",
    "for i in range(r):\n",
    "    b  = []\n",
    "    for j in range(c):\n",
    "        x = int(input(\"Enter x = \"))\n",
    "        b.append(x)\n",
    "    a.append(b)\n",
    "    \n",
    "print(a)"
   ]
  },
  {
   "cell_type": "markdown",
   "id": "5240b76f",
   "metadata": {},
   "source": [
    "Tuple\n",
    "Indexed\n",
    "Multiple Data\n",
    "Duplicate data\n",
    "Imutable"
   ]
  },
  {
   "cell_type": "code",
   "execution_count": null,
   "id": "347d6582",
   "metadata": {},
   "outputs": [],
   "source": [
    "a = (1,2,3)\n",
    "print(a)\n",
    "print(type(a))"
   ]
  },
  {
   "cell_type": "code",
   "execution_count": null,
   "id": "81a2c17b",
   "metadata": {},
   "outputs": [],
   "source": [
    "a = (\"Apple\",\"Ball\",\"Cat\",\"Dog\")\n",
    "print(a[0:3])"
   ]
  },
  {
   "cell_type": "code",
   "execution_count": null,
   "id": "e16900fc",
   "metadata": {},
   "outputs": [],
   "source": [
    "a = (\"Apple\",\"Ball\",\"Cat\",\"Dog\")\n",
    "b = (\"Fish\",)\n",
    "a = a+b\n",
    "print(a)"
   ]
  },
  {
   "cell_type": "code",
   "execution_count": null,
   "id": "786c8bd5",
   "metadata": {},
   "outputs": [],
   "source": [
    "# append() insert() extend() del() remove() pop()"
   ]
  },
  {
   "cell_type": "code",
   "execution_count": null,
   "id": "715dac50",
   "metadata": {},
   "outputs": [],
   "source": [
    "a = [\"Zebra\",\"Apple\",\"Cat\",\"Dog\"]\n",
    "print(sorted(a))\n",
    "print(a)"
   ]
  },
  {
   "cell_type": "code",
   "execution_count": null,
   "id": "0041e35e",
   "metadata": {},
   "outputs": [],
   "source": [
    "a = [\"Zebra\",\"Apple\",\"Cat\",\"Dog\"]\n",
    "b = list(a)\n",
    "print(b)"
   ]
  },
  {
   "cell_type": "code",
   "execution_count": null,
   "id": "6df3c295",
   "metadata": {},
   "outputs": [],
   "source": [
    "a = [\"Zebra\",\"Apple\",\"Cat\",\"Dog\"]\n",
    "b = list(a)\n",
    "b.remove('Zebra')\n",
    "a = tuple(b)\n",
    "a"
   ]
  },
  {
   "cell_type": "code",
   "execution_count": null,
   "id": "9ef63e27",
   "metadata": {},
   "outputs": [],
   "source": [
    "# Tuple functions\n",
    "    # min()\n",
    "    # max()\n",
    "    # sum()\n",
    "    # index()\n",
    "    #search\n",
    "    #read"
   ]
  },
  {
   "cell_type": "code",
   "execution_count": null,
   "id": "8abc45ce",
   "metadata": {},
   "outputs": [],
   "source": [
    "a = [\"Zebra\",\"Apple\",\"Cat\",\"Dog\"]\n",
    "for i in a:\n",
    "    print(i)"
   ]
  },
  {
   "cell_type": "code",
   "execution_count": null,
   "id": "fcb1e9a0",
   "metadata": {},
   "outputs": [],
   "source": [
    "a = [\"Zebra\",\"Apple\",\"Cat\",\"Dog\"]\n",
    "if \"Apple\" in a:\n",
    "    print(\"Yes\")"
   ]
  },
  {
   "cell_type": "code",
   "execution_count": null,
   "id": "c2a19b8f",
   "metadata": {},
   "outputs": [],
   "source": [
    "def hello():\n",
    "    return \"Hello\",\"World\"\n",
    "print(hello()[0])\n",
    "print(hello()[1])"
   ]
  },
  {
   "cell_type": "code",
   "execution_count": null,
   "id": "7ebf1532",
   "metadata": {},
   "outputs": [],
   "source": [
    "def hello(z):\n",
    "    print(z[0],z[1])\n",
    "t = (\"Hello\",\"World\")\n",
    "hello(t)"
   ]
  },
  {
   "cell_type": "code",
   "execution_count": null,
   "id": "d5915d07",
   "metadata": {},
   "outputs": [],
   "source": [
    "# tuple inside tuple\n",
    "# a  = ((1,2,3),\n",
    "#      (4,5,6),\n",
    "#      (7,8,9))"
   ]
  },
  {
   "cell_type": "code",
   "execution_count": null,
   "id": "82a1a5cc",
   "metadata": {},
   "outputs": [],
   "source": [
    "# change tuple inside tuple to list inside list\n",
    "    # list inside tuple \n",
    "    # tuple inside list\n"
   ]
  },
  {
   "cell_type": "code",
   "execution_count": null,
   "id": "7707e687",
   "metadata": {},
   "outputs": [],
   "source": [
    "# WAP to change \n",
    "# ['Apple 200 3 600', 'Banana 100 2 200']\n",
    "#to\n",
    "# [['Apple',200,3,600],['Banana','100,2,100']]\n",
    "z = \"Apple 200 3 600\\nBanana 100 2 200\"\n",
    "y = z.split('\\n')\n",
    "print(y)\n",
    "b = []\n",
    "for i in y:\n",
    "    x = i.split()\n",
    "    b.append(x)\n",
    "    \n",
    "print(b)"
   ]
  },
  {
   "cell_type": "code",
   "execution_count": null,
   "id": "bc552fb0",
   "metadata": {},
   "outputs": [],
   "source": [
    "a = [['Apple', '2000', '3', '600'], ['Banana', '100', '2', '200']]\n",
    "a[0][1] = int(a[0][1])\n",
    "a[0][2] = int(a[0][2])\n",
    "a"
   ]
  },
  {
   "cell_type": "code",
   "execution_count": null,
   "id": "0b8e6bdc",
   "metadata": {},
   "outputs": [],
   "source": [
    "\n",
    "# Python code to convert list of tuple into list\n",
    "  \n",
    "# List of tuple initialization\n",
    "tup = [(1, 2), (3, 4), (5, 6)]\n",
    "  \n",
    "# result list initialization\n",
    "result = []\n",
    "  \n",
    "for t in tup:\n",
    "    for x in t:\n",
    "        result.append(x)\n",
    "  \n",
    "# printing output\n",
    "print(result)"
   ]
  },
  {
   "cell_type": "code",
   "execution_count": null,
   "id": "7d1165c5",
   "metadata": {},
   "outputs": [],
   "source": [
    "# change tuple inside tuple to list inside list\n",
    "    # list inside tuple \n",
    "    # tuple inside list"
   ]
  },
  {
   "cell_type": "code",
   "execution_count": null,
   "id": "00b1c2af",
   "metadata": {},
   "outputs": [],
   "source": [
    "# List inside tuple\n",
    "a = ([1,2,3],[4,5,6,],[7,8,9])\n",
    "print(a[0])\n",
    "a[0][0]= 11\n",
    "print(a)"
   ]
  },
  {
   "cell_type": "code",
   "execution_count": null,
   "id": "4f4f33bc",
   "metadata": {},
   "outputs": [],
   "source": [
    " # Tuple inside list\n",
    "    a = [(1,2,3),(4,5,6),(7,8,9)]\n",
    "    a[0] = (1,2,33)\n",
    "    a"
   ]
  },
  {
   "cell_type": "code",
   "execution_count": null,
   "id": "e6a29dbb",
   "metadata": {},
   "outputs": [],
   "source": [
    "# change tuple inside tuple to list inside list\n",
    "b  = []\n",
    "a = ((1,2,3),(4,5,6),(7,8,9))\n",
    "for i in a:\n",
    "    x = list(i)\n",
    "    b.append(x)\n",
    "print(b)"
   ]
  },
  {
   "cell_type": "code",
   "execution_count": null,
   "id": "41b0625d",
   "metadata": {},
   "outputs": [],
   "source": [
    "a = ((1,2,3),(4,5,6),(7,8,9))\n",
    "b = [list(i) for i in a]\n",
    "print(b)"
   ]
  },
  {
   "cell_type": "code",
   "execution_count": null,
   "id": "e6c0fecb",
   "metadata": {},
   "outputs": [],
   "source": [
    "# tuple inside tuple to list inside list\n",
    "\n",
    "a = ((1,2,3)) , ((4,5,6)) ,((7,8,9))\n",
    "b = [list(x) for x in a]\n",
    "print(b)"
   ]
  },
  {
   "cell_type": "code",
   "execution_count": null,
   "id": "4593b2f5",
   "metadata": {},
   "outputs": [],
   "source": [
    "# Set\n",
    "#     Not Indexed\n",
    "#     No Duplicated Values\n",
    "#     Uonrdered\n",
    "#     Mutable\n",
    "    \n",
    "    "
   ]
  },
  {
   "cell_type": "code",
   "execution_count": null,
   "id": "eb4f9d6c",
   "metadata": {},
   "outputs": [],
   "source": [
    "# set are Unordered\n",
    "s =  set()\n",
    "a = {\"Apple\",\"Ball\",'Cat',\"Dog\"}\n",
    "print(a)"
   ]
  },
  {
   "cell_type": "code",
   "execution_count": null,
   "id": "9bf2c46c",
   "metadata": {},
   "outputs": [],
   "source": [
    "# Set are not Indexed\n",
    "a = {\"Apple\",\"Ball\",'Cat',\"Dog\"}\n",
    "print(a[0])\n"
   ]
  },
  {
   "cell_type": "code",
   "execution_count": null,
   "id": "ad80a5ed",
   "metadata": {},
   "outputs": [],
   "source": [
    "# Set donot take duplicate values\n",
    "a = {\"Apple\",\"Ball\",'Cat',\"Dog\",\"Apple\"}\n",
    "print(a)\n",
    "print(len(a))"
   ]
  },
  {
   "cell_type": "code",
   "execution_count": null,
   "id": "ce840ba3",
   "metadata": {},
   "outputs": [],
   "source": [
    "# Set is Mutable\n",
    "a = {\"Apple\",\"Ball\",'Cat',\"Dog\"}\n",
    "a.update({'Goat'})\n",
    "a"
   ]
  },
  {
   "cell_type": "code",
   "execution_count": null,
   "id": "3cd75667",
   "metadata": {},
   "outputs": [],
   "source": [
    "# Mutable\n",
    "a = {\"Apple\",\"Ball\",'Cat',\"Dog\"}\n",
    "a.add('Goat')\n",
    "a"
   ]
  },
  {
   "cell_type": "code",
   "execution_count": null,
   "id": "753c8e1d",
   "metadata": {},
   "outputs": [],
   "source": [
    "# Set is UNordered\n",
    "s = set()\n",
    "n = int(input(\"Enter n = \"))\n",
    "for i in range(n):\n",
    "    x = input(\"Enter x = \")\n",
    "    s.add(x)\n",
    "print(s)"
   ]
  },
  {
   "cell_type": "code",
   "execution_count": null,
   "id": "9df2e23a",
   "metadata": {},
   "outputs": [],
   "source": [
    "# Tuple inside set can be put\n",
    "    s = {(1,2,3),(4,5,6),(7,8,9)}\n",
    "    s"
   ]
  },
  {
   "cell_type": "code",
   "execution_count": null,
   "id": "c681c66b",
   "metadata": {},
   "outputs": [],
   "source": [
    "#  list cannot be put inside set if we try to put errors come in program\n",
    "     d = {[1,2,3],[4,5,6]}\n",
    "     d\n"
   ]
  },
  {
   "cell_type": "code",
   "execution_count": null,
   "id": "1e9e1f4e",
   "metadata": {},
   "outputs": [],
   "source": [
    "# set inside set cannot be put if we try to put errors come in program\n",
    "s = {{1,2,3},{4,5,6},{7,8,9}\n",
    "     s"
   ]
  },
  {
   "cell_type": "code",
   "execution_count": null,
   "id": "7be80e35",
   "metadata": {},
   "outputs": [],
   "source": [
    "a = [\"Apple\",\"Ball\",\"Apple\",\"Ball\"]\n",
    "b = set(a)\n",
    "c = list(b)\n",
    "c\n"
   ]
  },
  {
   "cell_type": "code",
   "execution_count": null,
   "id": "d2e87555",
   "metadata": {},
   "outputs": [],
   "source": [
    "# Union\n",
    "abc  = {\"Ram\",\"Shyam\",\"Hari\",\"Gita\"}\n",
    "xyz = {\"Siva\",\"Sita\",\"Ram\",\"Shyam\"}\n",
    "abc.union(xyz)"
   ]
  },
  {
   "cell_type": "code",
   "execution_count": null,
   "id": "87227744",
   "metadata": {},
   "outputs": [],
   "source": [
    "# Intersection\n",
    "abc  = {\"Ram\",\"Shyam\",\"Hari\",\"Gita\"}\n",
    "xyz = {\"Siva\",\"Sita\",\"Ram\",\"Shyam\"}\n",
    "abc.intersection(xyz)"
   ]
  },
  {
   "cell_type": "code",
   "execution_count": null,
   "id": "a395a6c0",
   "metadata": {},
   "outputs": [],
   "source": [
    "# Associated with abc compnay but not xyz\n",
    "abc  = {\"Ram\",\"Shyam\",\"Hari\",\"Gita\"}\n",
    "xyz = {\"Siva\",\"Sita\",\"Ram\",\"Shyam\"}\n",
    "abc.difference(xyz)"
   ]
  },
  {
   "cell_type": "code",
   "execution_count": null,
   "id": "6f080be6",
   "metadata": {},
   "outputs": [],
   "source": [
    "# Assocaited with xyz company but not abc\n",
    "abc  = {\"Ram\",\"Shyam\",\"Hari\",\"Gita\"}\n",
    "xyz = {\"Siva\",\"Sita\",\"Ram\",\"Shyam\"}\n",
    "xyz.difference(abc)"
   ]
  },
  {
   "cell_type": "code",
   "execution_count": 3,
   "id": "0f7e4360",
   "metadata": {},
   "outputs": [
    {
     "data": {
      "text/plain": [
       "{'Nabin', 'Vimesh'}"
      ]
     },
     "execution_count": 3,
     "metadata": {},
     "output_type": "execute_result"
    }
   ],
   "source": [
    "# Not Assocaited with both company\n",
    "U = {\"Ram\",\"Shyam\",\"Hari\",\"Gita\",\"Nabin\",\"Vimesh\",\"Siva\",\"Sita\",\"Ram\",\"Shyam\"}\n",
    "abc  = {\"Ram\",\"Shyam\",\"Hari\",\"Gita\"}\n",
    "xyz = {\"Siva\",\"Sita\",\"Ram\",\"Shyam\"}\n",
    "x = abc.union(xyz)\n",
    "un = U.difference(x)\n",
    "un"
   ]
  },
  {
   "cell_type": "code",
   "execution_count": 2,
   "id": "e44b67a9",
   "metadata": {},
   "outputs": [
    {
     "data": {
      "text/plain": [
       "{'Gita', 'Hari', 'Sita', 'Siva'}"
      ]
     },
     "execution_count": 2,
     "metadata": {},
     "output_type": "execute_result"
    }
   ],
   "source": [
    "# Symmertical Differecne\n",
    "U = {\"Ram\",\"Shyam\",\"Hari\",\"Gita\",\"Nabin\",\"Vimesh\",\"Siva\",\"Sita\",\"Ram\",\"Shyam\"}\n",
    "abc  = {\"Ram\",\"Shyam\",\"Hari\",\"Gita\"}\n",
    "xyz = {\"Siva\",\"Sita\",\"Ram\",\"Shyam\"}\n",
    "x = abc.intersection(xyz)\n",
    "y = abc.union(xyz)\n",
    "un = y.difference(x)\n",
    "un\n"
   ]
  },
  {
   "cell_type": "code",
   "execution_count": null,
   "id": "66d8b5b9",
   "metadata": {},
   "outputs": [],
   "source": [
    "                                        # Dictonary 3rd January 2022\n",
    "#     Indexed\n",
    "#     Ordered\n",
    "#     Multiple Values\n",
    "#     Duplicate Values\n",
    "#     Mutable"
   ]
  },
  {
   "cell_type": "code",
   "execution_count": null,
   "id": "f8544b16",
   "metadata": {},
   "outputs": [],
   "source": [
    "d = {}\n",
    "print(type(d))"
   ]
  },
  {
   "cell_type": "code",
   "execution_count": null,
   "id": "caf09d18",
   "metadata": {},
   "outputs": [],
   "source": [
    "# d = {<key>:<value>}"
   ]
  },
  {
   "cell_type": "code",
   "execution_count": null,
   "id": "3a47ec6b",
   "metadata": {},
   "outputs": [],
   "source": [
    "# Indexed\n",
    "d = {'a':\"Apple\"}\n",
    "print(d)\n",
    "print(type(d))"
   ]
  },
  {
   "cell_type": "code",
   "execution_count": null,
   "id": "f79a5356",
   "metadata": {},
   "outputs": [],
   "source": [
    "# Ordered\n",
    "d = {'a':\"Apple\",'b':\"Ball\",'c':\"Cat\"}\n",
    "print(d['a'])\n",
    "print(d['b'])\n",
    "print(d['c'])"
   ]
  },
  {
   "cell_type": "code",
   "execution_count": null,
   "id": "bec7311a",
   "metadata": {},
   "outputs": [],
   "source": [
    "# Multiple Values\n",
    "d = {'a':\"Apple\",'b':\"Ball\",'c':\"Cat\"}\n",
    "print(d)\n",
    "print(len(d))"
   ]
  },
  {
   "cell_type": "code",
   "execution_count": null,
   "id": "748ef0d2",
   "metadata": {},
   "outputs": [],
   "source": [
    "# Duplicate Values\n",
    "d = {'a':\"Apple\",'b':\"Ball\",'c':\"Apple\"}\n",
    "print(d)"
   ]
  },
  {
   "cell_type": "code",
   "execution_count": null,
   "id": "cfc1de73",
   "metadata": {},
   "outputs": [],
   "source": [
    "# Mutable\n",
    "d = {'a':\"Apple\",'b':\"Ball\",'a':\"Cat\"}\n",
    "print(d)\n"
   ]
  },
  {
   "cell_type": "code",
   "execution_count": null,
   "id": "fa58c8ec",
   "metadata": {},
   "outputs": [],
   "source": [
    "# Mutable\n",
    "a = {}\n",
    "a['A'] = \"Apple\"\n",
    "a['B'] = \"Ball\"\n",
    "a['c'] = \"Cat\"\n",
    "a['A'] = \"apple\"\n",
    "\n",
    "\n",
    "print(a)"
   ]
  },
  {
   "cell_type": "code",
   "execution_count": null,
   "id": "d3b9b5bb",
   "metadata": {},
   "outputs": [],
   "source": [
    "a = {}\n",
    "a['A'] = \"Apple\"\n",
    "a['B'] = \"Ball\"\n",
    "a['c'] = \"Cat\"\n",
    "\n",
    "\n",
    "print(a)"
   ]
  },
  {
   "cell_type": "code",
   "execution_count": null,
   "id": "88c8791c",
   "metadata": {},
   "outputs": [],
   "source": [
    "info = dict()\n",
    "n = int(input(\"Enter n = \"))\n",
    "for i in range(n):\n",
    "    name = input(\"Enter name = \")\n",
    "    phone = input(\"Enter phone = \")\n",
    "    info[name] = phone\n",
    "print(info)"
   ]
  },
  {
   "cell_type": "code",
   "execution_count": null,
   "id": "5fda9cfb",
   "metadata": {},
   "outputs": [],
   "source": [
    "{'Sangam': '934732974123', 'sagar': '4734712374'}\n",
    "for i in d:\n",
    "    print(i)"
   ]
  },
  {
   "cell_type": "code",
   "execution_count": null,
   "id": "b5312c5d",
   "metadata": {},
   "outputs": [],
   "source": [
    "d = {'Sangam': '934732974123', 'sagar': '4734712374'}\n",
    "for i in d.values():\n",
    "    print(i)"
   ]
  },
  {
   "cell_type": "code",
   "execution_count": null,
   "id": "09279f45",
   "metadata": {},
   "outputs": [],
   "source": [
    "l = list()\n",
    "d = {'Sangam': '934732974123', 'sagar': '4734712374'}\n",
    "for i in d.items():\n",
    "    print(i)"
   ]
  },
  {
   "cell_type": "code",
   "execution_count": null,
   "id": "6f4ab133",
   "metadata": {},
   "outputs": [],
   "source": [
    "d = {'Sangam': '934732974123', 'sagar': '4734712374'}\n",
    "dict(d)"
   ]
  },
  {
   "cell_type": "code",
   "execution_count": null,
   "id": "8f9f9319",
   "metadata": {},
   "outputs": [],
   "source": [
    "list(\"Python\")"
   ]
  },
  {
   "cell_type": "code",
   "execution_count": null,
   "id": "29e91126",
   "metadata": {},
   "outputs": [],
   "source": [
    "tuple(\"Python\")"
   ]
  },
  {
   "cell_type": "code",
   "execution_count": null,
   "id": "9632b1f6",
   "metadata": {},
   "outputs": [],
   "source": [
    "d = {'Sangam': '934732974123', 'sagar': '4734712374'}\n",
    "d['Sangam'] = '741823744545'\n",
    "print(d)\n"
   ]
  },
  {
   "cell_type": "code",
   "execution_count": null,
   "id": "c75dd1e7",
   "metadata": {},
   "outputs": [],
   "source": [
    "# Mutable\n",
    "d = {'Sangam': '934732974123', 'sagar': '4734712374'}\n",
    "d['Hari'] = '741823744545'\n",
    "print(d)\n"
   ]
  },
  {
   "cell_type": "code",
   "execution_count": null,
   "id": "8164c6d5",
   "metadata": {},
   "outputs": [],
   "source": [
    "# del pop()"
   ]
  },
  {
   "cell_type": "code",
   "execution_count": null,
   "id": "0728a116",
   "metadata": {},
   "outputs": [],
   "source": [
    "d = {'Sangam': '934732974123', 'sagar': '4734712374'}\n",
    "del d[\"Sangam\"]\n",
    "print(d)"
   ]
  },
  {
   "cell_type": "code",
   "execution_count": null,
   "id": "73777e49",
   "metadata": {},
   "outputs": [],
   "source": [
    "d = {'Sangam': '934732974123', 'sagar': '4734712374'}\n",
    "d.pop(\"Sangam\")\n",
    "print(d)"
   ]
  },
  {
   "cell_type": "code",
   "execution_count": null,
   "id": "03ea4238",
   "metadata": {},
   "outputs": [],
   "source": []
  },
  {
   "cell_type": "code",
   "execution_count": null,
   "id": "f784c3ff",
   "metadata": {},
   "outputs": [],
   "source": [
    "# list tuple set dictonary as value\n",
    "    #  contains following as a values\n",
    "        #     list\n",
    "        #     Tuple\n",
    "        #     Set\n",
    "        #     Dictonary\n"
   ]
  },
  {
   "cell_type": "code",
   "execution_count": null,
   "id": "c73e68bd",
   "metadata": {},
   "outputs": [],
   "source": [
    "#list inside dict\n",
    "d = {'Ram': ['9856556543','98564457687'], \n",
    "     'Shyam': ['9867665654','9867565545']}\n",
    "print(d)\n",
    "print(len(d))\n",
    "print(type(d))\n"
   ]
  },
  {
   "cell_type": "code",
   "execution_count": null,
   "id": "7b29a9b9",
   "metadata": {},
   "outputs": [],
   "source": [
    "d = {'Sangam': ['934732974123','9347329741234564'],\n",
    "     'sagar': ['4734712374','473471237455']}\n",
    "print(d)\n",
    "print(len(d))\n",
    "print(type(d))\n"
   ]
  },
  {
   "cell_type": "code",
   "execution_count": null,
   "id": "07b8c338",
   "metadata": {},
   "outputs": [],
   "source": [
    "print(d['Sangam'])\n",
    "print(d[\"sagar\"][0])"
   ]
  },
  {
   "cell_type": "code",
   "execution_count": null,
   "id": "3011606c",
   "metadata": {},
   "outputs": [],
   "source": [
    "d = {'Sangam': ['934732974123','9347329741234564'],\n",
    "     'sagar': ['4734712374','473471237455']}\n",
    "for i in d.items():\n",
    "    print(i)"
   ]
  },
  {
   "cell_type": "code",
   "execution_count": null,
   "id": "bb720a74",
   "metadata": {},
   "outputs": [],
   "source": [
    "data = {}\n",
    "n = int(input(\"Enter n = \"))\n",
    "for i in range(n):\n",
    "    name = input(\"Enter name = \")\n",
    "    ntc = input(\"Enter ntc phone no. = \")\n",
    "    ncell = input(\"Enter ncell phone no. = \")\n",
    "    data[name] = [ntc,ncell]\n",
    "print(data)"
   ]
  },
  {
   "cell_type": "code",
   "execution_count": null,
   "id": "53f114c1",
   "metadata": {},
   "outputs": [],
   "source": [
    "d = {'Sangam': ['934732974123','9347329741234564'],\n",
    "     'sagar': ['4734712374','473471237455']}\n",
    "d['Sangam'][0] = 98364636434\n",
    "del d['sagar'][0]\n",
    "d"
   ]
  },
  {
   "cell_type": "code",
   "execution_count": null,
   "id": "74f64fe0",
   "metadata": {},
   "outputs": [],
   "source": [
    "d = {'Sangam': ['934732974123','9347329741234564'],\n",
    "     'sagar': ['4734712374','473471237455']}\n",
    "d.pop('Sangam')\n",
    "d\n",
    "      "
   ]
  },
  {
   "cell_type": "code",
   "execution_count": null,
   "id": "10be4e61",
   "metadata": {},
   "outputs": [],
   "source": [
    "d = {'Sangam': ['934732974123','9347329741234564'],\n",
    "     'sagar': ['4734712374','473471237455']}\n",
    "d['Sangam'].pop(0)\n",
    "d\n"
   ]
  },
  {
   "cell_type": "code",
   "execution_count": null,
   "id": "5a54b657",
   "metadata": {},
   "outputs": [],
   "source": [
    "d = {'Sangam': ['934732974123','9347329741234564'],\n",
    "     'sagar': ['4734712374','473471237455']}\n",
    "d['Sangam'].append(\"9824392754231794\")\n",
    "d\n",
    "\n",
    "      "
   ]
  },
  {
   "cell_type": "code",
   "execution_count": null,
   "id": "a699e558",
   "metadata": {},
   "outputs": [],
   "source": [
    "# dict inside list\n",
    "l = [{'Name':'Ram','NTC':9867554543,'NCELL':9808556543},\n",
    "    {'Name':'Shyam','NTC':9864334321,'NCELL':9808998976}]\n",
    "print(l)\n",
    "print(type(l))\n",
    "print(l[1]['Name'])"
   ]
  },
  {
   "cell_type": "code",
   "execution_count": null,
   "id": "bf77596e",
   "metadata": {},
   "outputs": [],
   "source": [
    "mylist = {'mydict': [{'A': 'Letter A'}, {'B': 'Letter C'}, {'C': 'Letter C'}]}\n",
    "print(mylist['mydict'][0]['A'])"
   ]
  },
  {
   "cell_type": "code",
   "execution_count": null,
   "id": "89caa058",
   "metadata": {},
   "outputs": [],
   "source": [
    "for i in l:\n",
    "    print(i)"
   ]
  },
  {
   "cell_type": "code",
   "execution_count": null,
   "id": "35f48646",
   "metadata": {},
   "outputs": [],
   "source": [
    "                    #             Dictonary 2nd Classs Jan 4"
   ]
  },
  {
   "cell_type": "code",
   "execution_count": null,
   "id": "b6733818",
   "metadata": {
    "scrolled": true
   },
   "outputs": [],
   "source": [
    "data = []\n",
    "n = int(input('Enter n = '))\n",
    "for i in range(n):\n",
    "    name = input(\"Enter name = \")\n",
    "    ntc = input(\"Enter ntc phone = \")\n",
    "    ncell = input(\"Enter ncellphone = \")\n",
    "    info = {'Name':name,'Ntc':ntc,'Ncell':ncell}\n",
    "    data.append(info)\n",
    "print(data)"
   ]
  },
  {
   "cell_type": "code",
   "execution_count": null,
   "id": "954bbedc",
   "metadata": {},
   "outputs": [],
   "source": [
    "print(data[0]['Name'])"
   ]
  },
  {
   "cell_type": "code",
   "execution_count": null,
   "id": "e1222b01",
   "metadata": {},
   "outputs": [],
   "source": [
    "data[0]['Name'] = 'Ram'\n",
    "print(data)"
   ]
  },
  {
   "cell_type": "code",
   "execution_count": null,
   "id": "6e0570c5",
   "metadata": {},
   "outputs": [],
   "source": [
    "data[0]['Land'] = 34334234\n",
    "data"
   ]
  },
  {
   "cell_type": "code",
   "execution_count": null,
   "id": "d727223b",
   "metadata": {},
   "outputs": [],
   "source": [
    "# dict inside dict\n",
    "    # d = {<key>:{<key>:<value>}}"
   ]
  },
  {
   "cell_type": "code",
   "execution_count": null,
   "id": "1c500251",
   "metadata": {},
   "outputs": [],
   "source": [
    "d = {'Nepal':{'Name':'Ram','NTC':'93473847394','NCELL':'984734343343'},\n",
    "    'USA':{'Name': 'Ram','NTC':'3934834','NCELL':'384394734'}}\n",
    "print(d['Nepal'])"
   ]
  },
  {
   "cell_type": "code",
   "execution_count": null,
   "id": "ff935c11",
   "metadata": {},
   "outputs": [],
   "source": [
    "print(d['Nepal']['Name'])"
   ]
  },
  {
   "cell_type": "code",
   "execution_count": null,
   "id": "2334760f",
   "metadata": {},
   "outputs": [],
   "source": [
    "data = {}\n",
    "n = int(input('Enter n = '))\n",
    "for i in range(1,n+1):\n",
    "    name = input(\"Enter name = \")\n",
    "    ntc = input(\"Enter ntc phone = \")\n",
    "    ncell = input(\"Enter ncell phone = \")\n",
    "    data[i] = {'Name':name,'NTC':ntc,'NCELL':ncell}\n",
    "    \n",
    "print(data)"
   ]
  },
  {
   "cell_type": "code",
   "execution_count": null,
   "id": "52635bd7",
   "metadata": {},
   "outputs": [],
   "source": [
    "data = {1: {'Name': 'Ram', 'NTC': '9865445432', 'NCELL': '9808556543'}, 2: {'Name': 'Shyam', 'NTC': '9867665432', 'NCELL': '9808556543'}}"
   ]
  },
  {
   "cell_type": "code",
   "execution_count": null,
   "id": "1355a445",
   "metadata": {},
   "outputs": [],
   "source": [
    "data[3] = {'Name':'Hari','NTC':9867665643,'NCELL':9808556543}\n",
    "data"
   ]
  },
  {
   "cell_type": "code",
   "execution_count": null,
   "id": "3ded20ef",
   "metadata": {},
   "outputs": [],
   "source": [
    "data[1]['Name'] = \"Rama\"\n",
    "data"
   ]
  },
  {
   "cell_type": "code",
   "execution_count": null,
   "id": "83dfebde",
   "metadata": {},
   "outputs": [],
   "source": [
    "data[1]['NTC'] = [9867665654,98454432]\n",
    "data"
   ]
  },
  {
   "cell_type": "code",
   "execution_count": null,
   "id": "6a906108",
   "metadata": {},
   "outputs": [],
   "source": [
    "d = {('Ram','Shyam'):'Kathmandu'}\n",
    "print(d)"
   ]
  },
  {
   "cell_type": "code",
   "execution_count": null,
   "id": "d4fa6864",
   "metadata": {},
   "outputs": [],
   "source": [
    "d[('Ram', 'Shyam')]"
   ]
  },
  {
   "cell_type": "code",
   "execution_count": null,
   "id": "cfe625cb",
   "metadata": {},
   "outputs": [],
   "source": [
    "data = []\n",
    "d = {('Ram','Shyam'):'Kathmandu',('Hari','Sita'):'Patan'}\n",
    "for i in d.items():\n",
    "    if \"Ram\" in i[0]:\n",
    "        print(i)"
   ]
  },
  {
   "cell_type": "code",
   "execution_count": null,
   "id": "7b1c473b",
   "metadata": {},
   "outputs": [],
   "source": [
    "d = {1:{'Name':'Aakash','Physics':{'Th':60,'Pr':20}},\n",
    "     2:{'Name':'sagar','Physics':{'Th':50,'Pr':10}}}\n",
    "d"
   ]
  },
  {
   "cell_type": "code",
   "execution_count": 2,
   "id": "43581b38",
   "metadata": {},
   "outputs": [
    {
     "name": "stdout",
     "output_type": "stream",
     "text": [
      "Enter n = 2\n",
      "Enter name = Aakash\n",
      "Enter physics theory  mark = 60\n",
      "Enter physics paractical  mark = 20\n",
      "Enter name = Sagar\n",
      "Enter physics theory  mark = 50\n",
      "Enter physics paractical  mark = 10\n",
      "{1: {'Name': 'Aakash', 'PhysicsTh': '60', 'PhysicsPr': '20'}, 2: {'Name': 'Sagar', 'PhysicsTh': '50', 'PhysicsPr': '10'}}\n"
     ]
    }
   ],
   "source": [
    "data = {}\n",
    "n = int(input('Enter n = '))\n",
    "for i in range(1,n+1):\n",
    "    name = input(\"Enter name = \")\n",
    "    PhysicsTh = input(\"Enter physics theory  mark = \")\n",
    "    PhysicsPr = input(\"Enter physics paractical  mark = \")\n",
    "    data[i] = {'Name':name,'PhysicsTh':PhysicsTh,'PhysicsPr':PhysicsPr} \n",
    "print(data)"
   ]
  },
  {
   "cell_type": "code",
   "execution_count": null,
   "id": "ead47cce",
   "metadata": {},
   "outputs": [],
   "source": [
    "                            # File Jan-6\n",
    "# file = open(<file_name>,<mode>)\n",
    "# file.close()\n",
    "# modes\n",
    "    # r - read\n",
    "    # w - write\n",
    "    # a - append\n",
    "    # x = create"
   ]
  },
  {
   "cell_type": "code",
   "execution_count": 2,
   "id": "9e27be8c",
   "metadata": {},
   "outputs": [
    {
     "name": "stdout",
     "output_type": "stream",
     "text": [
      "The file is already there\n"
     ]
    }
   ],
   "source": [
    "try:\n",
    "    file = open('data.txt','x')\n",
    "    file.close()\n",
    "except:\n",
    "    print(\"The file is already there\")"
   ]
  },
  {
   "cell_type": "code",
   "execution_count": 7,
   "id": "8d3ff162",
   "metadata": {},
   "outputs": [
    {
     "name": "stdout",
     "output_type": "stream",
     "text": [
      "\n",
      "<class 'str'>\n"
     ]
    }
   ],
   "source": [
    "file = open('data.txt','r')\n",
    "data = file.read()\n",
    "print(data)\n",
    "print(type(data))\n",
    "file.close()"
   ]
  },
  {
   "cell_type": "code",
   "execution_count": 4,
   "id": "bb7539d2",
   "metadata": {},
   "outputs": [
    {
     "data": {
      "text/plain": [
       "''"
      ]
     },
     "execution_count": 4,
     "metadata": {},
     "output_type": "execute_result"
    }
   ],
   "source": [
    "data"
   ]
  },
  {
   "cell_type": "code",
   "execution_count": 1,
   "id": "4cec3093",
   "metadata": {},
   "outputs": [
    {
     "ename": "NameError",
     "evalue": "name 'data' is not defined",
     "output_type": "error",
     "traceback": [
      "\u001b[1;31m---------------------------------------------------------------------------\u001b[0m",
      "\u001b[1;31mNameError\u001b[0m                                 Traceback (most recent call last)",
      "\u001b[1;32m~\\AppData\\Local\\Temp/ipykernel_8096/3625169338.py\u001b[0m in \u001b[0;36m<module>\u001b[1;34m\u001b[0m\n\u001b[1;32m----> 1\u001b[1;33m \u001b[0mmain_data\u001b[0m \u001b[1;33m=\u001b[0m \u001b[0mdata\u001b[0m\u001b[1;33m.\u001b[0m\u001b[0msplit\u001b[0m\u001b[1;33m(\u001b[0m\u001b[1;34m'\\n'\u001b[0m\u001b[1;33m)\u001b[0m\u001b[1;33m\u001b[0m\u001b[1;33m\u001b[0m\u001b[0m\n\u001b[0m",
      "\u001b[1;31mNameError\u001b[0m: name 'data' is not defined"
     ]
    }
   ],
   "source": [
    "main_data = data.split('\\n')"
   ]
  },
  {
   "cell_type": "code",
   "execution_count": 2,
   "id": "6c87343a",
   "metadata": {},
   "outputs": [
    {
     "ename": "NameError",
     "evalue": "name 'main_data' is not defined",
     "output_type": "error",
     "traceback": [
      "\u001b[1;31m---------------------------------------------------------------------------\u001b[0m",
      "\u001b[1;31mNameError\u001b[0m                                 Traceback (most recent call last)",
      "\u001b[1;32m~\\AppData\\Local\\Temp/ipykernel_8096/1539495620.py\u001b[0m in \u001b[0;36m<module>\u001b[1;34m\u001b[0m\n\u001b[1;32m----> 1\u001b[1;33m \u001b[0mmain_data\u001b[0m\u001b[1;33m[\u001b[0m\u001b[1;36m2\u001b[0m\u001b[1;33m]\u001b[0m\u001b[1;33m\u001b[0m\u001b[1;33m\u001b[0m\u001b[0m\n\u001b[0m",
      "\u001b[1;31mNameError\u001b[0m: name 'main_data' is not defined"
     ]
    }
   ],
   "source": [
    "main_data[2]"
   ]
  },
  {
   "cell_type": "code",
   "execution_count": 3,
   "id": "8119d89d",
   "metadata": {},
   "outputs": [
    {
     "name": "stdout",
     "output_type": "stream",
     "text": [
      "\n",
      "\n"
     ]
    }
   ],
   "source": [
    "file = open('data.txt','r')\n",
    "print(file.readline())\n",
    "print(file.readline())\n",
    "\n",
    "file.close()"
   ]
  },
  {
   "cell_type": "code",
   "execution_count": null,
   "id": "bd2875f3",
   "metadata": {},
   "outputs": [],
   "source": [
    "# String formatting\n",
    "s = \"\"\n",
    "n = int(input(\"Enter n = \"))\n",
    "file = open('data1.txt','a')\n",
    "for i in range(n):\n",
    "    name = input(\"Enter name = \")\n",
    "    phone = int(input(\"Enter phone = \"))\n",
    "    info = f\"{name} {phone}\\n\"\n",
    "    s = s+info\n",
    "    \n",
    "print(s)\n",
    "file.write(s)\n",
    "file.close()"
   ]
  },
  {
   "cell_type": "code",
   "execution_count": null,
   "id": "641ce35c",
   "metadata": {},
   "outputs": [],
   "source": [
    "# String formatting\n",
    "s = \"\"\n",
    "n = int(input(\"Enter n = \"))\n",
    "file = open('data.csv','w')\n",
    "for i in range(n):\n",
    "    name = input(\"Enter name = \")\n",
    "    phone = int(input(\"Enter phone = \"))\n",
    "    info = f\"{name},{phone}\\n\"\n",
    "    s = s+info\n",
    "    \n",
    "print(s)\n",
    "file.write('Name,Phone\\n')\n",
    "file.write(s)\n",
    "file.close()"
   ]
  },
  {
   "cell_type": "code",
   "execution_count": null,
   "id": "867d9a94",
   "metadata": {},
   "outputs": [],
   "source": [
    "new_file = open('data.csv','r')\n",
    "new_data = new_file.read()\n",
    "print(new_data)\n",
    "new_file.close()"
   ]
  },
  {
   "cell_type": "code",
   "execution_count": 6,
   "id": "1abac265",
   "metadata": {},
   "outputs": [
    {
     "ename": "NameError",
     "evalue": "name 'new_data' is not defined",
     "output_type": "error",
     "traceback": [
      "\u001b[1;31m---------------------------------------------------------------------------\u001b[0m",
      "\u001b[1;31mNameError\u001b[0m                                 Traceback (most recent call last)",
      "\u001b[1;32m~\\AppData\\Local\\Temp/ipykernel_8096/3052793863.py\u001b[0m in \u001b[0;36m<module>\u001b[1;34m\u001b[0m\n\u001b[0;32m      1\u001b[0m \u001b[0mnew_file\u001b[0m \u001b[1;33m=\u001b[0m \u001b[0mopen\u001b[0m\u001b[1;33m(\u001b[0m\u001b[1;34m'data.csv'\u001b[0m\u001b[1;33m,\u001b[0m\u001b[1;34m'w'\u001b[0m\u001b[1;33m)\u001b[0m\u001b[1;33m\u001b[0m\u001b[1;33m\u001b[0m\u001b[0m\n\u001b[1;32m----> 2\u001b[1;33m \u001b[0mdata_updated\u001b[0m \u001b[1;33m=\u001b[0m \u001b[0mnew_data\u001b[0m\u001b[1;33m.\u001b[0m\u001b[0mreplace\u001b[0m\u001b[1;33m(\u001b[0m\u001b[1;34m'Ram,9856556543'\u001b[0m\u001b[1;33m,\u001b[0m\u001b[1;34m'Sangam,434234234'\u001b[0m\u001b[1;33m)\u001b[0m\u001b[1;33m\u001b[0m\u001b[1;33m\u001b[0m\u001b[0m\n\u001b[0m\u001b[0;32m      3\u001b[0m \u001b[0mb\u001b[0m \u001b[1;33m=\u001b[0m \u001b[0mopen\u001b[0m\u001b[1;33m(\u001b[0m\u001b[1;34m'data.csv'\u001b[0m\u001b[1;33m,\u001b[0m\u001b[1;34m'w'\u001b[0m\u001b[1;33m)\u001b[0m\u001b[1;33m\u001b[0m\u001b[1;33m\u001b[0m\u001b[0m\n\u001b[0;32m      4\u001b[0m \u001b[0mb\u001b[0m\u001b[1;33m.\u001b[0m\u001b[0mwrite\u001b[0m\u001b[1;33m(\u001b[0m\u001b[0mdata_updated\u001b[0m\u001b[1;33m)\u001b[0m\u001b[1;33m\u001b[0m\u001b[1;33m\u001b[0m\u001b[0m\n\u001b[0;32m      5\u001b[0m \u001b[0mb\u001b[0m\u001b[1;33m.\u001b[0m\u001b[0mclose\u001b[0m\u001b[1;33m(\u001b[0m\u001b[1;33m)\u001b[0m\u001b[1;33m\u001b[0m\u001b[1;33m\u001b[0m\u001b[0m\n",
      "\u001b[1;31mNameError\u001b[0m: name 'new_data' is not defined"
     ]
    }
   ],
   "source": [
    "new_file = open('data.csv','w')\n",
    "data_updated = new_data.replace('Ram,9856556543','Sangam,434234234')\n",
    "b = open('data.csv','w')\n",
    "b.write(data_updated)\n",
    "b.close()"
   ]
  },
  {
   "cell_type": "code",
   "execution_count": null,
   "id": "bda34149",
   "metadata": {},
   "outputs": [],
   "source": []
  }
 ],
 "metadata": {
  "kernelspec": {
   "display_name": "Python 3 (ipykernel)",
   "language": "python",
   "name": "python3"
  },
  "language_info": {
   "codemirror_mode": {
    "name": "ipython",
    "version": 3
   },
   "file_extension": ".py",
   "mimetype": "text/x-python",
   "name": "python",
   "nbconvert_exporter": "python",
   "pygments_lexer": "ipython3",
   "version": "3.9.7"
  }
 },
 "nbformat": 4,
 "nbformat_minor": 5
}
