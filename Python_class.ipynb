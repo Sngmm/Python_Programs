{
 "cells": [
  {
   "cell_type": "code",
   "execution_count": 2,
   "id": "36af7283",
   "metadata": {},
   "outputs": [
    {
     "name": "stdout",
     "output_type": "stream",
     "text": [
      "10\n",
      "10 10.5 Hello world True (2+2j)\n"
     ]
    }
   ],
   "source": [
    "a = 10\n",
    "b = 10.5\n",
    "c ='Hello world'\n",
    "d = True\n",
    "e = 2+2j\n",
    "print(a)\n",
    "print(a,b,c,d,e)"
   ]
  },
  {
   "cell_type": "code",
   "execution_count": 3,
   "id": "15872f2e",
   "metadata": {},
   "outputs": [
    {
     "name": "stdout",
     "output_type": "stream",
     "text": [
      "Enter a = 10 10\n",
      "Enter b = 2020\n",
      "30\n"
     ]
    }
   ],
   "source": [
    "a = int(input(\"Enter a = 10 \"))\n",
    "b = int(input(\"Enter b = 20\"))\n",
    "c = a+b\n",
    "print(c)"
   ]
  },
  {
   "cell_type": "code",
   "execution_count": 1,
   "id": "a0925522",
   "metadata": {},
   "outputs": [
    {
     "name": "stdin",
     "output_type": "stream",
     "text": [
      "Enter the principal amount :  100000\n",
      "Enter the number of years :  5\n",
      "Enter the rate of interest :  36\n"
     ]
    },
    {
     "name": "stdout",
     "output_type": "stream",
     "text": [
      "Simple interest : 180000.0\n"
     ]
    }
   ],
   "source": [
    "P = float(input(\"Enter the principal amount : \"))\n",
    " \n",
    "N = float(input(\"Enter the number of years : \"))\n",
    " \n",
    "R = float(input(\"Enter the rate of interest : \"))\n",
    " \n",
    "#calculate simple interest by using this formula\n",
    "SI = (P * N * R)/100\n",
    " \n",
    "#print\n",
    "print(\"Simple interest : {}\".format(SI))\n"
   ]
  },
  {
   "cell_type": "code",
   "execution_count": null,
   "id": "43c2e69d",
   "metadata": {},
   "outputs": [],
   "source": [
    "# if<condition>:\n",
    "# <operations>:\n",
    "# elif <condition>:\n",
    "#  <operations>:\n"
   ]
  },
  {
   "cell_type": "code",
   "execution_count": 9,
   "id": "5cbfb2ed",
   "metadata": {},
   "outputs": [
    {
     "name": "stdin",
     "output_type": "stream",
     "text": [
      "Enter mark of sub1 =  50\n",
      "Enter mark of sub2 =  78\n",
      "Enter mark of sub3 =  76\n"
     ]
    },
    {
     "name": "stdout",
     "output_type": "stream",
     "text": [
      "B\n"
     ]
    }
   ],
   "source": [
    "#WAP to calculate GPA\n",
    "sub1 = float(input(\"Enter mark of sub1 = \"))\n",
    "sub2 = float(input(\"Enter mark of sub2 = \"))\n",
    "sub3 = float(input(\"Enter mark of sub3 = \"))\n",
    "Om = sub1 + sub2 + sub3\n",
    "Fm = 300\n",
    "Per = (Om/Fm)*100\n",
    "if(Per>=90):\n",
    "    print(\"A+\")\n",
    "elif(Per>=80):\n",
    "    print(\"A\")\n",
    "elif(Per>=70):\n",
    "    print(\"B+\")\n",
    "elif(Per>=60):\n",
    "    print(\"B\")\n",
    "elif(Per>=50):\n",
    "    print(\"B\")\n",
    "else:\n",
    "    (\"Only Pass\")   \n",
    "        \n",
    "\n"
   ]
  },
  {
   "cell_type": "code",
   "execution_count": 15,
   "id": "b390c6de-5403-426c-b229-78de043dc1bc",
   "metadata": {},
   "outputs": [
    {
     "name": "stdout",
     "output_type": "stream",
     "text": [
      "1 Hello World\n",
      "3 Hello World\n",
      "5 Hello World\n",
      "7 Hello World\n",
      "9 Hello World\n"
     ]
    }
   ],
   "source": [
    "for i in range(1,10,2):\n",
    "    print(i,\"Hello World\")"
   ]
  },
  {
   "cell_type": "code",
   "execution_count": null,
   "id": "c5c7af36-1a9f-4435-93a7-b10375065b14",
   "metadata": {},
   "outputs": [],
   "source": [
    "s = 0\n",
    "n = int(input(\"Enter n = \"))\n",
    "for i in range(n):\n",
    "    x = int(input(\"Enter x = \"))\n",
    "    s = s+x\n",
    "    print(s)\n",
    "    \n",
    "    "
   ]
  },
  {
   "cell_type": "code",
   "execution_count": null,
   "id": "78ca04e8-1806-4834-b458-6b8bff983340",
   "metadata": {},
   "outputs": [],
   "source": [
    "[] # sum of n value\n",
    "s = \"\"\n",
    "n = int(input(\"Enter n = \")\n",
    "for i in range(n):\n",
    "        name = input(\"Enter name = \")\n",
    "        phone = input(\"Enter phone = \")\n",
    "        s = s+name+\" \"+phone+\"\\n\"\n",
    "print(s)"
   ]
  },
  {
   "cell_type": "code",
   "execution_count": null,
   "id": "50485717-90ca-4c9c-bed2-7b806b9691b8",
   "metadata": {},
   "outputs": [],
   "source": [
    "# sum of n numbers\n",
    "s = \"\"\n",
    "n = int(input(\"Enter n = \"))\n",
    "for i in range(n):\n",
    "    x = input(\"Enter x = \")\n",
    "    s = s+x+\" \"\n",
    "    print(s)  "
   ]
  },
  {
   "cell_type": "code",
   "execution_count": null,
   "id": "7af7d579-744d-4457-98e3-69ba9484e82f",
   "metadata": {},
   "outputs": [],
   "source": [
    "  # WAP to Calculate factorial of a number\n",
    "  # WAP to calculate total amount of  a bill"
   ]
  },
  {
   "cell_type": "code",
   "execution_count": null,
   "id": "fd846a5b-8405-45ce-a185-7c80cb65d6a5",
   "metadata": {},
   "outputs": [],
   "source": []
  }
 ],
 "metadata": {
  "kernelspec": {
   "display_name": "Python 3 (ipykernel)",
   "language": "python",
   "name": "python3"
  },
  "language_info": {
   "codemirror_mode": {
    "name": "ipython",
    "version": 3
   },
   "file_extension": ".py",
   "mimetype": "text/x-python",
   "name": "python",
   "nbconvert_exporter": "python",
   "pygments_lexer": "ipython3",
   "version": "3.9.7"
  }
 },
 "nbformat": 4,
 "nbformat_minor": 5
}
