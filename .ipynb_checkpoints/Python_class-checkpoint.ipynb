{
 "cells": [
  {
   "cell_type": "code",
   "execution_count": 2,
   "id": "36af7283",
   "metadata": {},
   "outputs": [
    {
     "name": "stdout",
     "output_type": "stream",
     "text": [
      "10\n",
      "10 10.5 Hello world True (2+2j)\n"
     ]
    }
   ],
   "source": [
    "a = 10\n",
    "b = 10.5\n",
    "c ='Hello world'\n",
    "d = True\n",
    "e = 2+2j\n",
    "print(a)\n",
    "print(a,b,c,d,e)"
   ]
  },
  {
   "cell_type": "code",
   "execution_count": 3,
   "id": "15872f2e",
   "metadata": {},
   "outputs": [
    {
     "name": "stdout",
     "output_type": "stream",
     "text": [
      "Enter a = 10 10\n",
      "Enter b = 2020\n",
      "30\n"
     ]
    }
   ],
   "source": [
    "a = int(input(\"Enter a = 10 \"))\n",
    "b = int(input(\"Enter b = 20\"))\n",
    "c = a+b\n",
    "print(c)"
   ]
  },
  {
   "cell_type": "code",
   "execution_count": 1,
   "id": "a0925522",
   "metadata": {},
   "outputs": [
    {
     "name": "stdin",
     "output_type": "stream",
     "text": [
      "Enter the principal amount :  100000\n",
      "Enter the number of years :  5\n",
      "Enter the rate of interest :  36\n"
     ]
    },
    {
     "name": "stdout",
     "output_type": "stream",
     "text": [
      "Simple interest : 180000.0\n"
     ]
    }
   ],
   "source": [
    "P = float(input(\"Enter the principal amount : \"))\n",
    " \n",
    "N = float(input(\"Enter the number of years : \"))\n",
    " \n",
    "R = float(input(\"Enter the rate of interest : \"))\n",
    " \n",
    "#calculate simple interest by using this formula\n",
    "SI = (P * N * R)/100\n",
    " \n",
    "#print\n",
    "print(\"Simple interest : {}\".format(SI))\n"
   ]
  },
  {
   "cell_type": "code",
   "execution_count": null,
   "id": "43c2e69d",
   "metadata": {},
   "outputs": [],
   "source": [
    "# if<condition>:\n",
    "#  <operations>:\n",
    "# elif <condition>:\n",
    "#  <operations>:\n"
   ]
  },
  {
   "cell_type": "code",
   "execution_count": null,
   "id": "5cbfb2ed",
   "metadata": {},
   "outputs": [],
   "source": []
  }
 ],
 "metadata": {
  "kernelspec": {
   "display_name": "Python 3 (ipykernel)",
   "language": "python",
   "name": "python3"
  },
  "language_info": {
   "codemirror_mode": {
    "name": "ipython",
    "version": 3
   },
   "file_extension": ".py",
   "mimetype": "text/x-python",
   "name": "python",
   "nbconvert_exporter": "python",
   "pygments_lexer": "ipython3",
   "version": "3.9.7"
  }
 },
 "nbformat": 4,
 "nbformat_minor": 5
}
