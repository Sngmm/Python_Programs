{
 "cells": [
  {
   "cell_type": "code",
   "execution_count": 28,
   "id": "5e92a5e1",
   "metadata": {},
   "outputs": [
    {
     "name": "stdout",
     "output_type": "stream",
     "text": [
      "The database is already there\n"
     ]
    }
   ],
   "source": [
    "import mysql.connector as my #importing database\n",
    "database = my.connect(\n",
    "    host=\"localhost\",\n",
    "    user= \"root\",\n",
    "    password = \"\"\n",
    ")\n",
    "db = database.cursor()\n",
    "try:\n",
    "    db.execute(\"CREATE DATABASE python_class\")\n",
    "except:\n",
    "    print(\"The database is already there\")\n",
    "            "
   ]
  },
  {
   "cell_type": "code",
   "execution_count": 29,
   "id": "683584c7",
   "metadata": {},
   "outputs": [],
   "source": [
    "database.commit()"
   ]
  },
  {
   "cell_type": "code",
   "execution_count": 3,
   "id": "63fd7a28",
   "metadata": {},
   "outputs": [],
   "source": [
    "import mysql.connector as my #importing database\n",
    "database = my.connect(\n",
    "    host=\"localhost\",\n",
    "    user= \"root\",\n",
    "    password = \"\",\n",
    "    database='class 2pm'\n",
    ")\n",
    "db = database.cursor()"
   ]
  },
  {
   "cell_type": "code",
   "execution_count": 31,
   "id": "0f304745",
   "metadata": {},
   "outputs": [
    {
     "name": "stdout",
     "output_type": "stream",
     "text": [
      "(1, 'Ayush', 34, 43, 43, 53, 54, 434, 0)\n",
      "(3, 'Ayush', 434, 34, 54, 43, 73, 779, 0)\n",
      "(4, 'saingam', 34, 54, 54, 65, 45, 234, 47)\n",
      "(5, 'sangam', 45, 45, 54, 65, 43, 345, 69)\n",
      "(6, 'sangam', 34, 54, 54, 53, 45, 240, 48)\n"
     ]
    }
   ],
   "source": [
    "sql = \"SELECT *FROM profile\"\n",
    "db.execute(sql)\n",
    "result = db.fetchall()\n",
    "for x in result:\n",
    "    print(x)"
   ]
  },
  {
   "cell_type": "code",
   "execution_count": 4,
   "id": "11237e75",
   "metadata": {},
   "outputs": [],
   "source": [
    "mycursor = database.cursor()\n",
    "sql = \"INSERT INTO profile (name, physics,chemestry,math,english,nepali,total,per) VALUES('Harry',89,45,54,64,34,350,80)\"\n",
    "db.execute(sql)\n",
    "database.commit()\n"
   ]
  },
  {
   "cell_type": "code",
   "execution_count": 13,
   "id": "e2bec342",
   "metadata": {
    "scrolled": true
   },
   "outputs": [
    {
     "name": "stdout",
     "output_type": "stream",
     "text": [
      "Enter n = 1\n",
      "Enter name = Herik\n",
      "Enter physics mark = 34\n",
      "Enter chemestry mark = 53\n",
      "Enter math mark = 23\n",
      "Enter english mark = 54\n",
      "Enter nepali mark = 23\n",
      "INSERT INTO profile (name,physics,chemestry,math,english,nepali,total,per) \n",
      "    VALUES('Herik',34,53,23,54,23,187,37.4)\n"
     ]
    }
   ],
   "source": [
    "import mysql.connector as my #importing database\n",
    "database = my.connect(\n",
    "    host=\"localhost\",\n",
    "    user= \"root\",\n",
    "    password = \"\",\n",
    "    database='class 2pm'\n",
    ")\n",
    "db = database.cursor()\n",
    "n = int(input(\"Enter n = \"))\n",
    "for i in range(n):\n",
    "    name = input(\"Enter name = \")\n",
    "    physics = int(input(\"Enter physics mark = \"))  \n",
    "    chemestry = int(input(\"Enter chemestry mark = \"))  \n",
    "    math= int(input(\"Enter math mark = \"))   \n",
    "    english = int(input(\"Enter english mark = \"))                 \n",
    "    nepali = int(input(\"Enter nepali mark = \"))               \n",
    "    total = sum([physics,chemestry,math,english,nepali])\n",
    "    per = total/5\n",
    "    sql = f'''INSERT INTO profile (name,physics,chemestry,math,english,nepali,total,per) \n",
    "    VALUES('{name}',{physics},{chemestry},{math},{english},{nepali},{total},{per})'''\n",
    "    print(sql)\n",
    "    db.execute(sql)\n",
    "database.commit()\n",
    "\n"
   ]
  },
  {
   "cell_type": "code",
   "execution_count": 15,
   "id": "dee75009",
   "metadata": {},
   "outputs": [],
   "source": [
    "sql = \"DELETE FROM profile WHERE sn = 7\"\n",
    "db.execute(sql)  \n",
    "database.commit("
   ]
  },
  {
   "cell_type": "code",
   "execution_count": 16,
   "id": "b4760ff0",
   "metadata": {},
   "outputs": [],
   "source": [
    "sql = \"UPDATE profile SET name = 'Ayush' WHERE name = 'sfsd'\"\n",
    "db.execute(sql)\n",
    "database.commit()"
   ]
  },
  {
   "cell_type": "code",
   "execution_count": null,
   "id": "0510c326",
   "metadata": {},
   "outputs": [],
   "source": []
  }
 ],
 "metadata": {
  "kernelspec": {
   "display_name": "Python 3 (ipykernel)",
   "language": "python",
   "name": "python3"
  },
  "language_info": {
   "codemirror_mode": {
    "name": "ipython",
    "version": 3
   },
   "file_extension": ".py",
   "mimetype": "text/x-python",
   "name": "python",
   "nbconvert_exporter": "python",
   "pygments_lexer": "ipython3",
   "version": "3.9.7"
  }
 },
 "nbformat": 4,
 "nbformat_minor": 5
}
